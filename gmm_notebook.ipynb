{
 "cells": [
  {
   "cell_type": "code",
   "execution_count": 2,
   "metadata": {},
   "outputs": [],
   "source": [
    "import numpy as np\n",
    "import pandas as pd\n",
    "# from sklearn import \n",
    "\n",
    "def load_data(path,hemisphere):\n",
    "    X = pd.read_csv(path + hemisphere + '_nmf_input_raw.csv')\n",
    "    X = X.to_numpy()\n",
    "    return(X)\n"
   ]
  },
  {
   "cell_type": "code",
   "execution_count": 12,
   "metadata": {},
   "outputs": [
    {
     "name": "stdout",
     "output_type": "stream",
     "text": [
      "(2220, 948)\n",
      "[[0.72191167 0.79436788 0.75909817 ... 0.76418841 0.65398388 0.730506  ]\n",
      " [0.72510828 0.78546084 0.72786679 ... 0.88426632 0.65963888 0.76356181]\n",
      " [0.73222308 0.78458321 0.70771907 ... 1.02003666 0.64172678 0.78128285]\n",
      " ...\n",
      " [0.68405477 0.74138437 0.72555454 ... 0.65529586 0.56045389 0.6212992 ]\n",
      " [0.70787432 0.71979637 0.70232637 ... 0.61354036 0.55243068 0.53544196]\n",
      " [0.74960837 0.75619531 0.71799002 ... 0.57412933 0.57871644 0.46208222]]\n"
     ]
    },
    {
     "data": {
      "text/plain": [
       "array([[0.72191167, 0.79436788, 0.75909817, ..., 0.73226102, 0.58294741,\n",
       "        0.68874833],\n",
       "       [0.75351727, 0.72680681, 0.76405496, ..., 0.72871505, 0.62250623,\n",
       "        0.70724514],\n",
       "       [0.85902044, 0.96294143, 0.93273672, ..., 0.57412933, 0.57871644,\n",
       "        0.46208222]])"
      ]
     },
     "execution_count": 12,
     "metadata": {},
     "output_type": "execute_result"
    }
   ],
   "source": [
    "X = load_data('C:\\\\Users\\\\Jonah Kember\\\\Documents\\\\MAGeT\\\\', 'right')\n",
    "print(X.shape)\n",
    "print(X)\n",
    "\n",
    "X = X.reshape(3,701520)\n",
    "\n",
    "X.shape\n",
    "\n",
    "X"
   ]
  }
 ],
 "metadata": {
  "kernelspec": {
   "display_name": "Python 3",
   "language": "python",
   "name": "python3"
  },
  "language_info": {
   "codemirror_mode": {
    "name": "ipython",
    "version": 3
   },
   "file_extension": ".py",
   "mimetype": "text/x-python",
   "name": "python",
   "nbconvert_exporter": "python",
   "pygments_lexer": "ipython3",
   "version": "3.10.11"
  },
  "orig_nbformat": 4
 },
 "nbformat": 4,
 "nbformat_minor": 2
}
